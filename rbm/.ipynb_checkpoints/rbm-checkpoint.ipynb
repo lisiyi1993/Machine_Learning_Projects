{
 "cells": [
  {
   "cell_type": "code",
   "execution_count": 7,
   "metadata": {},
   "outputs": [],
   "source": [
    "import numpy as np\n",
    "import tensorflow as tf\n",
    "import tensorflow.contrib.eager as tfe\n",
    "import matplotlib.pyplot as plt\n",
    "from tensorflow.examples.tutorials.mnist import input_data\n",
    "import pdb\n",
    "%matplotlib inline\n",
    "\n",
    "tfe.enable_eager_execution()"
   ]
  },
  {
   "cell_type": "code",
   "execution_count": 8,
   "metadata": {},
   "outputs": [
    {
     "name": "stdout",
     "output_type": "stream",
     "text": [
      "Extracting ../datasets/MNIST_data\\train-images-idx3-ubyte.gz\n",
      "Extracting ../datasets/MNIST_data\\train-labels-idx1-ubyte.gz\n",
      "Extracting ../datasets/MNIST_data\\t10k-images-idx3-ubyte.gz\n",
      "Extracting ../datasets/MNIST_data\\t10k-labels-idx1-ubyte.gz\n"
     ]
    }
   ],
   "source": [
    "mnist = input_data.read_data_sets('../datasets/MNIST_data')"
   ]
  },
  {
   "cell_type": "code",
   "execution_count": 9,
   "metadata": {},
   "outputs": [
    {
     "data": {
      "text/plain": [
       "(55000, 784)"
      ]
     },
     "execution_count": 9,
     "metadata": {},
     "output_type": "execute_result"
    },
    {
     "data": {
      "image/png": "[encoded data removed]",
      "text/plain": [
       "<Figure size 432x288 with 1 Axes>"
      ]
     },
     "metadata": {
      "needs_background": "light"
     },
     "output_type": "display_data"
    }
   ],
   "source": [
    "plt.rcParams['image.cmap'] = 'gray'\n",
    "sample_img = mnist.train.images[3]\n",
    "plt.imshow(sample_img.reshape([28, 28]))\n",
    "mnist.train.images.shape"
   ]
  },
  {
   "cell_type": "code",
   "execution_count": 90,
   "metadata": {},
   "outputs": [],
   "source": [
    "np.random.seed(0)\n",
    "\n",
    "class RBM:\n",
    "    def __init__(self, visible_dim, hidden_dim, k=1):\n",
    "        self.visible_dim = visible_dim\n",
    "        self.hidden_dim = hidden_dim\n",
    "        self.k = k\n",
    "        \n",
    "        # initiating weight variables\n",
    "        self.W = tf.Variable(np.random.normal(loc=0., scale=0.1, size=(visible_dim, hidden_dim)), dtype=tf.float32)\n",
    "        self.c = tf.Variable(np.ones((visible_dim, 1)), dtype=tf.float32)\n",
    "        self.b = tf.Variable(np.ones((hidden_dim, 1)), dtype=tf.float32) \n",
    "    \n",
    "    \n",
    "    def _energy(self, x, h):\n",
    "        e = tf.matmul(tf.matmul(x, self.W), tf.transpose(h))\n",
    "        e = tf.diag_part(e) + tf.matmul(x, self.c) + tf.matmul(h, self.b)\n",
    "        e = e / tf.cast(tf.shape(x)[0], dtype=tf.float32)\n",
    "        return -1 * e\n",
    "    \n",
    "    \n",
    "    def _prob_of_h_given_x(self, x):\n",
    "        \"\"\"\n",
    "        Input shape\n",
    "            x:  N * V\n",
    "        \"\"\"\n",
    "        \n",
    "        tensor_x = tf.convert_to_tensor(x, dtype=tf.float32)\n",
    "        return tf.sigmoid(tf.matmul(tensor_x, self.W) + tf.transpose(self.b))  \n",
    "    \n",
    "    \n",
    "    def _prob_of_x_given_h(self, h):\n",
    "        \"\"\"\n",
    "        Input shape\n",
    "            h:  N * H\n",
    "        \"\"\"\n",
    "        \n",
    "        tensor_h = tf.convert_to_tensor(h, dtype=tf.float32)\n",
    "        return tf.sigmoid(tf.matmul(tensor_h, tf.transpose(self.W)) + tf.transpose(self.c))    \n",
    "    \n",
    "    \n",
    "    def _sample_from_dist(self, dist):\n",
    "        sample = tf.random.uniform(minval=0, maxval=1, shape=dist.shape)\n",
    "        return tf.cast((dist > sample), dtype=tf.float32)\n",
    "    \n",
    "    \n",
    "    def gibbs_sampler(self, x, Sample=True, return_prob=True):\n",
    "        x_tilde = x\n",
    "        \n",
    "        for _ in range(self.k):\n",
    "            h_dist = self._prob_of_h_given_x(x_tilde)\n",
    "            if Sample:\n",
    "                h = self._sample_from_dist(h_dist)\n",
    "            else:\n",
    "                h = h_dist\n",
    "            \n",
    "            x_dist = self._prob_of_x_given_h(h)\n",
    "            if Sample:\n",
    "                x_tilde = self._sample_from_dist(x_dist)\n",
    "            else:\n",
    "                x_tilde = x_dist\n",
    "        \n",
    "        if return_prob:\n",
    "            return x_dist\n",
    "        else:\n",
    "            return self._sample_from_dist(x_dist)\n",
    "    \n",
    "    \n",
    "    def update_weights(self, x, learning_rate=0.01):\n",
    "        x = tf.convert_to_tensor(x, dtype=tf.float32)\n",
    "        batch_size = tf.cast(tf.shape(x)[0], dtype=tf.float32)\n",
    "        \n",
    "        x_tilde = self.gibbs_sampler(x)\n",
    "        h_tilde_of_x = self._prob_of_h_given_x(x)\n",
    "        h_tilde_of_x_tilde = self._prob_of_h_given_x(x_tilde)\n",
    "        \n",
    "        with tf.GradientTape(persistent=True) as tape:\n",
    "            possitive_energy = self._energy(x, h_tilde_of_x)\n",
    "            negative_energy = self._energy(x, h_tilde_of_x_tilde)\n",
    "        \n",
    "        grad_W = (tape.gradient(possitive_energy, self.W) - tape.gradient(negative_energy, self.W)) / batch_size\n",
    "        grad_c = (tape.gradient(possitive_energy, self.c) - tape.gradient(negative_energy, self.c)) / batch_size\n",
    "        grad_b = (tape.gradient(possitive_energy, self.b) - tape.gradient(negative_energy, self.b)) / batch_size\n",
    "        \n",
    "        grad_E_h_tilde_given_x = tf.matmul(tf.transpose(x), h_tilde_of_x)\n",
    "        grad_E_h_tilde_given_x_tilde = tf.matmul(tf.transpose(x), h_tilde_of_x_tilde)\n",
    "        \n",
    "        grad_W_v2 = (grad_E_h_tilde_given_x - grad_E_h_tilde_given_x_tilde) / batch_size\n",
    "        grad_b_v2 = tf.reduce_sum((h_tilde_of_x - h_tilde_of_x_tilde), axis=0) / batch_size\n",
    "        grad_c_v2 = tf.reduce_sum((x - x_tilde), axis=0) / batch_size   \n",
    "        \n",
    "        pdb.set_trace()\n",
    "        \n",
    "        self.W.assign_add(learning_rate * grad_W_v2)\n",
    "        self.c.assign_add(learning_rate * grad_c_v2)\n",
    "        self.b.assign_add(learning_rate * grad_b_v2) "
   ]
  },
  {
   "cell_type": "code",
   "execution_count": null,
   "metadata": {
    "scrolled": false
   },
   "outputs": [],
   "source": [
    "def get_loss(y, output):\n",
    "    loss = -1. * ((y * np.log(output)) + ((1. - y) * (np.log(1. - output))))\n",
    "    return np.sum(loss) / y.shape[0]\n",
    "\n",
    "\n",
    "epoch = 20\n",
    "batch_size = 200\n",
    "max_iter = int(mnist.train.num_examples/batch_size)\n",
    "print_every = 100\n",
    "cross_entropy = binary_cross_entropy()\n",
    "\n",
    "rbm = RBM(784, 200)\n",
    "\n",
    "for e in range(epoch):\n",
    "    for it in range(max_iter):\n",
    "        batch_x, _ = mnist.train.next_batch(batch_size)\n",
    "        rbm.update_weights(batch_x)\n",
    "    \n",
    "    train_index = np.random.choice(mnist.train.images.shape[0], batch_size)\n",
    "    train_x = mnist.train.images[train_index]\n",
    "    train_sample = rbm.gibbs_sampler(train_x)\n",
    "\n",
    "    train_loss = get_loss(train_x, train_sample)\n",
    "    train_loss = tf.reduce_mean(train_loss)\n",
    "    print(f\"the loss is {train_loss}\")"
   ]
  },
  {
   "cell_type": "code",
   "execution_count": null,
   "metadata": {},
   "outputs": [],
   "source": []
  }
 ],
 "metadata": {
  "kernelspec": {
   "display_name": "Python 3",
   "language": "python",
   "name": "python3"
  },
  "language_info": {
   "codemirror_mode": {
    "name": "ipython",
    "version": 3
   },
   "file_extension": ".py",
   "mimetype": "text/x-python",
   "name": "python",
   "nbconvert_exporter": "python",
   "pygments_lexer": "ipython3",
   "version": "3.6.8"
  }
 },
 "nbformat": 4,
 "nbformat_minor": 2
}
