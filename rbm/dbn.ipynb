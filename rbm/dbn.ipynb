{
 "cells": [
  {
   "cell_type": "code",
   "execution_count": 1,
   "metadata": {},
   "outputs": [],
   "source": [
    "import numpy as np\n",
    "import tensorflow as tf\n",
    "import tensorflow.contrib.eager as tfe\n",
    "import matplotlib.pyplot as plt\n",
    "from tensorflow.examples.tutorials.mnist import input_data\n",
    "import pdb\n",
    "%matplotlib inline\n",
    "\n",
    "tfe.enable_eager_execution()"
   ]
  },
  {
   "cell_type": "code",
   "execution_count": 3,
   "metadata": {},
   "outputs": [
    {
     "name": "stdout",
     "output_type": "stream",
     "text": [
      "Extracting ..\\datasets\\MNIST_data\\train-images-idx3-ubyte.gz\n",
      "Extracting ..\\datasets\\MNIST_data\\train-labels-idx1-ubyte.gz\n",
      "Extracting ..\\datasets\\MNIST_data\\t10k-images-idx3-ubyte.gz\n",
      "Extracting ..\\datasets\\MNIST_data\\t10k-labels-idx1-ubyte.gz\n"
     ]
    }
   ],
   "source": [
    "mnist = input_data.read_data_sets('..\\datasets\\MNIST_data')"
   ]
  },
  {
   "cell_type": "code",
   "execution_count": 4,
   "metadata": {},
   "outputs": [
    {
     "data": {
      "text/plain": [
       "<matplotlib.image.AxesImage at 0x10db7780>"
      ]
     },
     "execution_count": 4,
     "metadata": {},
     "output_type": "execute_result"
    },
    {
     "data": {
      "image/png": "[encoded data removed]",
      "text/plain": [
       "<Figure size 432x288 with 1 Axes>"
      ]
     },
     "metadata": {
      "needs_background": "light"
     },
     "output_type": "display_data"
    }
   ],
   "source": [
    "plt.rcParams['image.cmap'] = 'gray'\n",
    "sample_img = mnist.train.images[8]\n",
    "sample_img = (sample_img > 0).astype(np.float32)\n",
    "plt.imshow(sample_img.reshape([28, 28]))"
   ]
  },
  {
   "cell_type": "code",
   "execution_count": 5,
   "metadata": {},
   "outputs": [],
   "source": [
    "class RBM:\n",
    "    def __init__(self, visible_dim, hidden_dim):\n",
    "        self.visible_dim = visible_dim\n",
    "        self.hidden_dim = hidden_dim\n",
    "        \n",
    "        # initiating weight variables\n",
    "        self.W = tf.Variable(np.random.normal(loc=0., scale=0.1, size=(visible_dim, hidden_dim)), dtype=tf.float32)\n",
    "        self.c = tf.Variable(np.ones((visible_dim, 1)), dtype=tf.float32)\n",
    "        self.b = tf.Variable(np.ones((hidden_dim, 1)), dtype=tf.float32)\n",
    "    \n",
    "    \n",
    "    def energy(self, x, h):\n",
    "        e = tf.matmul(tf.matmul(x, self.W), tf.transpose(h))\n",
    "        e = tf.diag_part(e) + tf.matmul(x, self.c) + tf.matmul(h, self.b)\n",
    "        e = e / tf.cast(tf.shape(x)[0], dtype=tf.float32)\n",
    "        return -1 * e\n",
    "    \n",
    "    \n",
    "    def prob_of_h_given_x(self, x):\n",
    "        \"\"\"\n",
    "        Input shape\n",
    "            x:  N * V\n",
    "        \"\"\"\n",
    "        \n",
    "        tensor_x = tf.convert_to_tensor(x, dtype=tf.float32)\n",
    "        return tf.sigmoid(tf.matmul(tensor_x, self.W) + tf.transpose(self.b))  \n",
    "    \n",
    "    \n",
    "    def prob_of_x_given_h(self, h):\n",
    "        \"\"\"\n",
    "        Input shape\n",
    "            h:  N * H\n",
    "        \"\"\"\n",
    "        \n",
    "        tensor_h = tf.convert_to_tensor(h, dtype=tf.float32)\n",
    "        return tf.sigmoid(tf.matmul(tensor_h, tf.transpose(self.W)) + tf.transpose(self.c))    \n",
    "    \n",
    "    \n",
    "    def sample_from_dist(self, dist):\n",
    "        sample = tf.random.uniform(minval=0, maxval=1, shape=dist.shape)\n",
    "        return tf.cast((dist > sample), dtype=tf.float32)\n",
    "    \n",
    "    \n",
    "    def gibbs_sampler(self, x, k=1, sample=True, return_prob=False):\n",
    "        x_tilde = x\n",
    "        \n",
    "        for _ in range(k):\n",
    "            h_dist = self.prob_of_h_given_x(x_tilde)\n",
    "            if sample:\n",
    "                h = self.sample_from_dist(h_dist)\n",
    "            else:\n",
    "                h = h_dist\n",
    "            \n",
    "            x_dist = self.prob_of_x_given_h(h)\n",
    "            if sample:\n",
    "                x_tilde = self.sample_from_dist(x_dist)\n",
    "            else:\n",
    "                x_tilde = x_dist\n",
    "        \n",
    "        if return_prob:\n",
    "            return x_dist\n",
    "        else:\n",
    "            return self.sample_from_dist(x_dist)\n",
    "    \n",
    "    \n",
    "    def update_weights(self, x, learning_rate=0.005, **kargs):\n",
    "        x = tf.convert_to_tensor(x, dtype=tf.float32)\n",
    "        batch_size = tf.cast(tf.shape(x)[0], dtype=tf.float32)\n",
    "        \n",
    "        x_tilde = self.gibbs_sampler(x, **kargs)\n",
    "        h_tilde_of_x = self.prob_of_h_given_x(x)\n",
    "        h_tilde_of_x_tilde = self.prob_of_h_given_x(x_tilde)\n",
    "        \n",
    "        with tf.GradientTape(persistent=True) as tape:\n",
    "            possitive_energy = self.energy(x, h_tilde_of_x)\n",
    "            negative_energy = self.energy(x_tilde, h_tilde_of_x_tilde)\n",
    "        \n",
    "        grad_W = (tape.gradient(possitive_energy, self.W) - tape.gradient(negative_energy, self.W)) / batch_size\n",
    "        grad_b = (tape.gradient(possitive_energy, self.b) - tape.gradient(negative_energy, self.b)) / batch_size\n",
    "        grad_c = (tape.gradient(possitive_energy, self.c) - tape.gradient(negative_energy, self.c)) / batch_size\n",
    "          \n",
    "        self.W.assign_sub(learning_rate * grad_W)\n",
    "        self.c.assign_sub(learning_rate * grad_c)\n",
    "        self.b.assign_sub(learning_rate * grad_b) \n",
    "#         pdb.set_trace()"
   ]
  },
  {
   "cell_type": "code",
   "execution_count": 6,
   "metadata": {},
   "outputs": [],
   "source": [
    "class DBN:\n",
    "    def __init__(self, input_dims, layers, *args, **kargs):\n",
    "        self.input_dims = input_dims\n",
    "        self.layers = []\n",
    "        \n",
    "        cur_input_dims = input_dims\n",
    "        for hidden_dim in layers:\n",
    "            rbm = RBM(cur_input_dims, hidden_dim)\n",
    "            self.layers.append(rbm)\n",
    "            cur_input_dims = hidden_dim\n",
    "        \n",
    "        self.rbm = self.layers[-1]\n",
    "        \n",
    "    def sample_from_dist(self, dist):\n",
    "        sample = tf.random.uniform(minval=0, maxval=1, shape=dist.shape)\n",
    "        return tf.cast((dist > sample), dtype=tf.float32)\n",
    "    \n",
    "    def train(self, x, learning_rate=0.005, **kargs):\n",
    "        inputs = x\n",
    "        \n",
    "        for i, layer in enumerate(self.layers):\n",
    "            layer.update_weights(inputs, learning_rate=learning_rate, **kargs)\n",
    "            \n",
    "            if i < len(self.layers) - 1:\n",
    "                prob_h_i = layer.prob_of_h_given_x(inputs)\n",
    "                h_i = layer.sample_from_dist(prob_h_i)\n",
    "                \n",
    "                inputs = h_i\n",
    "                \n",
    "    def generate(self, n, k=100, sample=True, return_prob=False):\n",
    "        inputs = np.random.randint(2, size=(n, self.rbm.visible_dim))\n",
    "        \n",
    "        random_sample_x = self.rbm.gibbs_sampler(inputs, k=k, sample=True, return_prob=False)\n",
    "        input_h = self.sample_from_dist(self.rbm.prob_of_h_given_x(random_sample_x))\n",
    "        \n",
    "        x_dist = None\n",
    "        for layer in reversed(self.layers):\n",
    "            x_dist = layer.prob_of_x_given_h(input_h)\n",
    "            if sample:\n",
    "                input_h = self.sample_from_dist(x_dist)\n",
    "            else:\n",
    "                input_h = x_dist\n",
    "        \n",
    "        if return_prob:\n",
    "            return x_dist\n",
    "        else:\n",
    "            return self.sample_from_dist(x_dist)"
   ]
  },
  {
   "cell_type": "code",
   "execution_count": 9,
   "metadata": {},
   "outputs": [],
   "source": [
    "def toBinary(X):\n",
    "    return (X > 0).astype(np.float32)\n",
    "\n",
    "\n",
    "epoch = 50\n",
    "batch_size = 500\n",
    "max_iter = int(mnist.train.num_examples/batch_size)\n",
    "\n",
    "CD_k = 1\n",
    "visable_layers = mnist.train.images.shape[1]\n",
    "layers = [512, 512, 128, 128, 64, 64]\n",
    "dbm = DBN(visable_layers, layers)\n",
    "\n",
    "for e in range(epoch):\n",
    "    for it in range(max_iter):\n",
    "        batch_x, _ = mnist.train.next_batch(batch_size)\n",
    "        binary_batch_x = toBinary(batch_x)\n",
    "        dbm.train(binary_batch_x, k=CD_k)"
   ]
  },
  {
   "cell_type": "code",
   "execution_count": 12,
   "metadata": {},
   "outputs": [
    {
     "data": {
      "image/png": "[encoded data removed]",
      "text/plain": [
       "<Figure size 432x288 with 15 Axes>"
      ]
     },
     "metadata": {
      "needs_background": "light"
     },
     "output_type": "display_data"
    }
   ],
   "source": [
    "import matplotlib.gridspec as gridspec\n",
    "\n",
    "\n",
    "def show_images(images, rows):\n",
    "    rows = rows\n",
    "    cols = int(images.shape[0]/rows)\n",
    "    image_width = image_height = np.ceil(np.sqrt(images.shape[1])).astype(int)\n",
    "    \n",
    "#     plt.figure(figsize=(5, 5))\n",
    "    gs = gridspec.GridSpec(rows, cols)\n",
    "    gs.update(wspace=0.05, hspace=0.05)\n",
    "    \n",
    "    for i in range(images.shape[0]):\n",
    "        axs = plt.subplot(gs[i])\n",
    "        axs.axis('off')\n",
    "        axs.set_xticklabels([])\n",
    "        axs.set_yticklabels([])\n",
    "        axs.imshow(images[i].reshape([image_width, image_height]))\n",
    "\n",
    "\n",
    "generated_images = dbm.generate(15, return_prob=True).numpy()\n",
    "show_images(generated_images, 3)"
   ]
  },
  {
   "cell_type": "code",
   "execution_count": null,
   "metadata": {},
   "outputs": [],
   "source": []
  }
 ],
 "metadata": {
  "kernelspec": {
   "display_name": "Python 3",
   "language": "python",
   "name": "python3"
  },
  "language_info": {
   "codemirror_mode": {
    "name": "ipython",
    "version": 3
   },
   "file_extension": ".py",
   "mimetype": "text/x-python",
   "name": "python",
   "nbconvert_exporter": "python",
   "pygments_lexer": "ipython3",
   "version": "3.6.8"
  }
 },
 "nbformat": 4,
 "nbformat_minor": 2
}
