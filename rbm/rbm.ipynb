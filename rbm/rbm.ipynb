{
 "cells": [
  {
   "cell_type": "code",
   "execution_count": 1,
   "metadata": {},
   "outputs": [],
   "source": [
    "import numpy as np\n",
    "import tensorflow as tf\n",
    "import tensorflow.contrib.eager as tfe\n",
    "import matplotlib.pyplot as plt\n",
    "from tensorflow.examples.tutorials.mnist import input_data\n",
    "import pdb\n",
    "%matplotlib inline\n",
    "\n",
    "tfe.enable_eager_execution()"
   ]
  },
  {
   "cell_type": "code",
   "execution_count": 3,
   "metadata": {
    "scrolled": false
   },
   "outputs": [
    {
     "name": "stdout",
     "output_type": "stream",
     "text": [
      "Extracting ../datasets/MNIST_data\\train-images-idx3-ubyte.gz\n",
      "Extracting ../datasets/MNIST_data\\train-labels-idx1-ubyte.gz\n",
      "Extracting ../datasets/MNIST_data\\t10k-images-idx3-ubyte.gz\n",
      "Extracting ../datasets/MNIST_data\\t10k-labels-idx1-ubyte.gz\n"
     ]
    }
   ],
   "source": [
    "mnist = input_data.read_data_sets('../datasets/MNIST_data')"
   ]
  },
  {
   "cell_type": "code",
   "execution_count": 7,
   "metadata": {},
   "outputs": [
    {
     "data": {
      "text/plain": [
       "<matplotlib.image.AxesImage at 0x10d08940>"
      ]
     },
     "execution_count": 7,
     "metadata": {},
     "output_type": "execute_result"
    },
    {
     "data": {
      "image/png": "[encoded data removed]",
      "text/plain": [
       "<Figure size 432x288 with 1 Axes>"
      ]
     },
     "metadata": {
      "needs_background": "light"
     },
     "output_type": "display_data"
    }
   ],
   "source": [
    "plt.rcParams['image.cmap'] = 'gray'\n",
    "sample_img = mnist.train.images[8]\n",
    "sample_img = (sample_img > 0).astype(np.float32)\n",
    "plt.imshow(sample_img.reshape([28, 28]))"
   ]
  },
  {
   "cell_type": "code",
   "execution_count": 8,
   "metadata": {},
   "outputs": [],
   "source": [
    "class RBM:\n",
    "    def __init__(self, visible_dim, hidden_dim):\n",
    "        self.visible_dim = visible_dim\n",
    "        self.hidden_dim = hidden_dim\n",
    "        \n",
    "        # initiating weight variables\n",
    "        self.W = tf.Variable(np.random.normal(loc=0., scale=0.1, size=(visible_dim, hidden_dim)), dtype=tf.float32)\n",
    "        self.c = tf.Variable(np.ones((visible_dim, 1)), dtype=tf.float32)\n",
    "        self.b = tf.Variable(np.ones((hidden_dim, 1)), dtype=tf.float32)\n",
    "    \n",
    "    \n",
    "    def _energy(self, x, h):\n",
    "        e = tf.matmul(tf.matmul(x, self.W), tf.transpose(h))\n",
    "        e = tf.diag_part(e) + tf.matmul(x, self.c) + tf.matmul(h, self.b)\n",
    "        e = e / tf.cast(tf.shape(x)[0], dtype=tf.float32)\n",
    "        return -1 * e\n",
    "    \n",
    "    \n",
    "    def _prob_of_h_given_x(self, x):\n",
    "        \"\"\"\n",
    "        Input shape\n",
    "            x:  N * V\n",
    "        \"\"\"\n",
    "        \n",
    "        tensor_x = tf.convert_to_tensor(x, dtype=tf.float32)\n",
    "        return tf.sigmoid(tf.matmul(tensor_x, self.W) + tf.transpose(self.b))  \n",
    "    \n",
    "    \n",
    "    def _prob_of_x_given_h(self, h):\n",
    "        \"\"\"\n",
    "        Input shape\n",
    "            h:  N * H\n",
    "        \"\"\"\n",
    "        \n",
    "        tensor_h = tf.convert_to_tensor(h, dtype=tf.float32)\n",
    "        return tf.sigmoid(tf.matmul(tensor_h, tf.transpose(self.W)) + tf.transpose(self.c))    \n",
    "    \n",
    "    \n",
    "    def _sample_from_dist(self, dist):\n",
    "        sample = tf.random.uniform(minval=0, maxval=1, shape=dist.shape)\n",
    "        return tf.cast((dist > sample), dtype=tf.float32)\n",
    "    \n",
    "    \n",
    "    def gibbs_sampler(self, x, k=1, sample=True, return_prob=False):\n",
    "        x_tilde = x\n",
    "        \n",
    "        for _ in range(k):\n",
    "            h_dist = self._prob_of_h_given_x(x_tilde)\n",
    "            if sample:\n",
    "                h = self._sample_from_dist(h_dist)\n",
    "            else:\n",
    "                h = h_dist\n",
    "            \n",
    "            x_dist = self._prob_of_x_given_h(h)\n",
    "            if sample:\n",
    "                x_tilde = self._sample_from_dist(x_dist)\n",
    "            else:\n",
    "                x_tilde = x_dist\n",
    "        \n",
    "        if return_prob:\n",
    "            return x_dist\n",
    "        else:\n",
    "            return self._sample_from_dist(x_dist)\n",
    "    \n",
    "    \n",
    "    def update_weights(self, x, learning_rate=0.005, **kargs):\n",
    "        x = tf.convert_to_tensor(x, dtype=tf.float32)\n",
    "        batch_size = tf.cast(tf.shape(x)[0], dtype=tf.float32)\n",
    "        \n",
    "        x_tilde = self.gibbs_sampler(x, **kargs)\n",
    "        h_tilde_of_x = self._prob_of_h_given_x(x)\n",
    "        h_tilde_of_x_tilde = self._prob_of_h_given_x(x_tilde)\n",
    "        \n",
    "        with tf.GradientTape(persistent=True) as tape:\n",
    "            possitive_energy = self._energy(x, h_tilde_of_x)\n",
    "            negative_energy = self._energy(x_tilde, h_tilde_of_x_tilde)\n",
    "        \n",
    "        grad_W = (tape.gradient(possitive_energy, self.W) - tape.gradient(negative_energy, self.W)) / batch_size\n",
    "        grad_b = (tape.gradient(possitive_energy, self.b) - tape.gradient(negative_energy, self.b)) / batch_size\n",
    "        grad_c = (tape.gradient(possitive_energy, self.c) - tape.gradient(negative_energy, self.c)) / batch_size\n",
    "          \n",
    "#         grad_E_h_tilde_given_x = tf.matmul(tf.transpose(x), h_tilde_of_x)\n",
    "#         grad_E_h_tilde_given_x_tilde = tf.matmul(tf.transpose(x), h_tilde_of_x_tilde)\n",
    "        \n",
    "#         grad_W_v2 = -1 * (grad_E_h_tilde_given_x - grad_E_h_tilde_given_x_tilde) / batch_size\n",
    "#         grad_b_v2 = -1 * tf.reduce_sum((h_tilde_of_x - h_tilde_of_x_tilde), axis=0) / batch_size\n",
    "#         grad_c_v2 = -1 * tf.reduce_sum((x - x_tilde), axis=0) / batch_size   \n",
    "        \n",
    "#         print(1)\n",
    "#         assert abs(np.mean(grad_W) - np.mean(grad_W_v2)) < 0.001, f\"W gradient difference: {(np.mean(grad_W) - np.mean(grad_W_v2))}\"\n",
    "#         assert abs(np.mean(grad_b) - np.mean(grad_b_v2)) < 0.001, f\"b gradient difference: {(np.mean(grad_b) - np.mean(grad_b_v2))}\"\n",
    "#         assert abs(np.mean(grad_c) - np.mean(grad_c_v2)) < 0.001, f\"c gradient difference: {(np.mean(grad_c) - np.mean(grad_c_v2))}\"\n",
    "        \n",
    "        self.W.assign_sub(learning_rate * grad_W)\n",
    "        self.c.assign_sub(learning_rate * grad_c)\n",
    "        self.b.assign_sub(learning_rate * grad_b) \n",
    "#         pdb.set_trace()"
   ]
  },
  {
   "cell_type": "code",
   "execution_count": 9,
   "metadata": {
    "scrolled": true
   },
   "outputs": [
    {
     "data": {
      "image/png": "[encoded data removed]",
      "text/plain": [
       "<Figure size 432x288 with 1 Axes>"
      ]
     },
     "metadata": {
      "needs_background": "light"
     },
     "output_type": "display_data"
    }
   ],
   "source": [
    "def get_loss(y, output):\n",
    "    loss = -1. * ((y * tf.log(output)) + ((1. - y) * (tf.log(1. - output))))\n",
    "#     l1 = tf.reduce_mean(loss)\n",
    "    loss = tf.reduce_sum(loss) / tf.cast(tf.shape(y)[0], dtype=tf.float32)\n",
    "#     pdb.set_trace()\n",
    "    return tf.reduce_mean(loss)\n",
    "\n",
    "def toBinary(X):\n",
    "    return (X > 0).astype(np.float32)\n",
    "\n",
    "\n",
    "epoch = 50\n",
    "batch_size = 500\n",
    "accuracy_size = 500\n",
    "max_iter = int(mnist.train.num_examples/batch_size)\n",
    "print_every = 100\n",
    "\n",
    "CD_k = 50\n",
    "visable_layers = mnist.train.images.shape[1]\n",
    "hidden_layers = 200\n",
    "rbm = RBM(visable_layers, hidden_layers)\n",
    "train_losses = []\n",
    "val_losses = []\n",
    "\n",
    "for e in range(epoch):\n",
    "    for it in range(max_iter):\n",
    "        batch_x, _ = mnist.train.next_batch(batch_size)\n",
    "        binary_batch_x = toBinary(batch_x)\n",
    "        rbm.update_weights(binary_batch_x, k=CD_k)\n",
    "    \n",
    "    train_index = np.random.choice(mnist.train.images.shape[0], accuracy_size)\n",
    "    train_x = mnist.train.images[train_index]\n",
    "    binary_train_x = toBinary(train_x)\n",
    "    train_sample = rbm.gibbs_sampler(binary_train_x, return_prob=True)\n",
    "    train_loss = get_loss(binary_train_x, train_sample)\n",
    "    \n",
    "    val_index = np.random.choice(mnist.validation.images.shape[0], accuracy_size)\n",
    "    val_x = mnist.validation.images[val_index]\n",
    "    binary_val_x = toBinary(val_x)\n",
    "    val_sample = rbm.gibbs_sampler(binary_val_x, return_prob=True)\n",
    "    val_loss = get_loss(binary_val_x, val_sample)\n",
    "    \n",
    "    train_losses.append(train_loss)\n",
    "    val_losses.append(val_loss)\n",
    "    \n",
    "    \n",
    "plt.plot(train_losses, label=\"train losses\")\n",
    "plt.plot(val_losses, label=\"val losses\")\n",
    "plt.legend()\n",
    "plt.show()"
   ]
  },
  {
   "cell_type": "code",
   "execution_count": 31,
   "metadata": {},
   "outputs": [
    {
     "data": {
      "image/png": "[encoded data removed]",
      "text/plain": [
       "<Figure size 432x288 with 15 Axes>"
      ]
     },
     "metadata": {
      "needs_background": "light"
     },
     "output_type": "display_data"
    }
   ],
   "source": [
    "import matplotlib.gridspec as gridspec\n",
    "\n",
    "\n",
    "def show_images(images, rows):\n",
    "    rows = rows\n",
    "    cols = int(images.shape[0]/rows)\n",
    "    image_width = image_height = np.ceil(np.sqrt(images.shape[1])).astype(int)\n",
    "    \n",
    "#     plt.figure(figsize=(5, 5))\n",
    "    gs = gridspec.GridSpec(rows, cols)\n",
    "    gs.update(wspace=0.05, hspace=0.05)\n",
    "    \n",
    "    for i in range(images.shape[0]):\n",
    "        axs = plt.subplot(gs[i])\n",
    "        axs.axis('off')\n",
    "        axs.set_xticklabels([])\n",
    "        axs.set_yticklabels([])\n",
    "        axs.imshow(images[i].reshape([image_width, image_height]))\n",
    "\n",
    "            \n",
    "        \n",
    "test_index = np.random.choice(mnist.validation.images.shape[0], 5)\n",
    "test_images = mnist.validation.images[test_index]\n",
    "binary_test_images = toBinary(test_images)\n",
    "modified_test_images = np.copy(binary_test_images)\n",
    "modified_test_images[:, 391:] = 0\n",
    "output_test_images = rbm.gibbs_sampler(modified_test_images, k=20, return_prob=True).numpy()\n",
    "\n",
    "all_images = np.vstack((binary_test_images, modified_test_images, output_test_images))\n",
    "show_images(all_images, 3)"
   ]
  }
 ],
 "metadata": {
  "kernelspec": {
   "display_name": "Python 3",
   "language": "python",
   "name": "python3"
  },
  "language_info": {
   "codemirror_mode": {
    "name": "ipython",
    "version": 3
   },
   "file_extension": ".py",
   "mimetype": "text/x-python",
   "name": "python",
   "nbconvert_exporter": "python",
   "pygments_lexer": "ipython3",
   "version": "3.6.8"
  }
 },
 "nbformat": 4,
 "nbformat_minor": 2
}
