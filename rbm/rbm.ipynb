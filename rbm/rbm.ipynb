{
 "cells": [
  {
   "cell_type": "code",
   "execution_count": 1,
   "metadata": {},
   "outputs": [],
   "source": [
    "import numpy as np\n",
    "import tensorflow as tf\n",
    "import tensorflow.contrib.eager as tfe\n",
    "import matplotlib.pyplot as plt\n",
    "from tensorflow.examples.tutorials.mnist import input_data\n",
    "import pdb\n",
    "%matplotlib inline\n",
    "\n",
    "tfe.enable_eager_execution()"
   ]
  },
  {
   "cell_type": "code",
   "execution_count": 4,
   "metadata": {
    "scrolled": false
   },
   "outputs": [
    {
     "name": "stdout",
     "output_type": "stream",
     "text": [
      "Extracting ../datasets/MNIST_data\\train-images-idx3-ubyte.gz\n",
      "Extracting ../datasets/MNIST_data\\train-labels-idx1-ubyte.gz\n",
      "Extracting ../datasets/MNIST_data\\t10k-images-idx3-ubyte.gz\n",
      "Extracting ../datasets/MNIST_data\\t10k-labels-idx1-ubyte.gz\n"
     ]
    }
   ],
   "source": [
    "mnist = input_data.read_data_sets('../datasets/MNIST_data')"
   ]
  },
  {
   "cell_type": "code",
   "execution_count": 5,
   "metadata": {},
   "outputs": [
    {
     "data": {
      "text/plain": [
       "(55000, 784)"
      ]
     },
     "execution_count": 5,
     "metadata": {},
     "output_type": "execute_result"
    },
    {
     "data": {
      "image/png": "[encoded data removed]",
      "text/plain": [
       "<Figure size 432x288 with 1 Axes>"
      ]
     },
     "metadata": {
      "needs_background": "light"
     },
     "output_type": "display_data"
    }
   ],
   "source": [
    "plt.rcParams['image.cmap'] = 'gray'\n",
    "sample_img = mnist.train.images[3]\n",
    "plt.imshow(sample_img.reshape([28, 28]))\n",
    "mnist.train.images.shape"
   ]
  },
  {
   "cell_type": "code",
   "execution_count": 6,
   "metadata": {},
   "outputs": [],
   "source": [
    "class RBM:\n",
    "    def __init__(self, visible_dim, hidden_dim):\n",
    "        self.visible_dim = visible_dim\n",
    "        self.hidden_dim = hidden_dim\n",
    "        \n",
    "        # initiating weight variables\n",
    "        self.W = tf.Variable(np.random.normal(loc=0., scale=0.1, size=(visible_dim, hidden_dim)), dtype=tf.float32)\n",
    "        self.c = tf.Variable(np.ones((visible_dim, 1)), dtype=tf.float32)\n",
    "        self.b = tf.Variable(np.ones((hidden_dim, 1)), dtype=tf.float32)\n",
    "    \n",
    "    \n",
    "    def _energy(self, x, h):\n",
    "        e = tf.matmul(tf.matmul(x, self.W), tf.transpose(h))\n",
    "        e = tf.diag_part(e) + tf.matmul(x, self.c) + tf.matmul(h, self.b)\n",
    "        e = e / tf.cast(tf.shape(x)[0], dtype=tf.float32)\n",
    "        return -1 * e\n",
    "    \n",
    "    \n",
    "    def _prob_of_h_given_x(self, x):\n",
    "        \"\"\"\n",
    "        Input shape\n",
    "            x:  N * V\n",
    "        \"\"\"\n",
    "        \n",
    "        tensor_x = tf.convert_to_tensor(x, dtype=tf.float32)\n",
    "        return tf.sigmoid(tf.matmul(tensor_x, self.W) + tf.transpose(self.b))  \n",
    "    \n",
    "    \n",
    "    def _prob_of_x_given_h(self, h):\n",
    "        \"\"\"\n",
    "        Input shape\n",
    "            h:  N * H\n",
    "        \"\"\"\n",
    "        \n",
    "        tensor_h = tf.convert_to_tensor(h, dtype=tf.float32)\n",
    "        return tf.sigmoid(tf.matmul(tensor_h, tf.transpose(self.W)) + tf.transpose(self.c))    \n",
    "    \n",
    "    \n",
    "    def _sample_from_dist(self, dist):\n",
    "        sample = tf.random.uniform(minval=0, maxval=1, shape=dist.shape)\n",
    "        return tf.cast((dist > sample), dtype=tf.float32)\n",
    "    \n",
    "    \n",
    "    def gibbs_sampler(self, x, k=1, sample=True, return_prob=False):\n",
    "        x_tilde = x\n",
    "        \n",
    "        for _ in range(k):\n",
    "            h_dist = self._prob_of_h_given_x(x_tilde)\n",
    "            if sample:\n",
    "                h = self._sample_from_dist(h_dist)\n",
    "            else:\n",
    "                h = h_dist\n",
    "            \n",
    "            x_dist = self._prob_of_x_given_h(h)\n",
    "            if sample:\n",
    "                x_tilde = self._sample_from_dist(x_dist)\n",
    "            else:\n",
    "                x_tilde = x_dist\n",
    "        \n",
    "        if return_prob:\n",
    "            return x_dist\n",
    "        else:\n",
    "            return self._sample_from_dist(x_dist)\n",
    "    \n",
    "    \n",
    "    def update_weights(self, x, learning_rate=0.005, **kargs):\n",
    "        x = tf.convert_to_tensor(x, dtype=tf.float32)\n",
    "        batch_size = tf.cast(tf.shape(x)[0], dtype=tf.float32)\n",
    "        \n",
    "        x_tilde = self.gibbs_sampler(x, **kargs)\n",
    "        h_tilde_of_x = self._prob_of_h_given_x(x)\n",
    "        h_tilde_of_x_tilde = self._prob_of_h_given_x(x_tilde)\n",
    "        \n",
    "        with tf.GradientTape(persistent=True) as tape:\n",
    "            possitive_energy = self._energy(x, h_tilde_of_x)\n",
    "            negative_energy = self._energy(x_tilde, h_tilde_of_x_tilde)\n",
    "        \n",
    "        grad_W = (tape.gradient(possitive_energy, self.W) - tape.gradient(negative_energy, self.W)) / batch_size\n",
    "        grad_b = (tape.gradient(possitive_energy, self.b) - tape.gradient(negative_energy, self.b)) / batch_size\n",
    "        grad_c = (tape.gradient(possitive_energy, self.c) - tape.gradient(negative_energy, self.c)) / batch_size\n",
    "          \n",
    "#         grad_E_h_tilde_given_x = tf.matmul(tf.transpose(x), h_tilde_of_x)\n",
    "#         grad_E_h_tilde_given_x_tilde = tf.matmul(tf.transpose(x), h_tilde_of_x_tilde)\n",
    "        \n",
    "#         grad_W_v2 = -1 * (grad_E_h_tilde_given_x - grad_E_h_tilde_given_x_tilde) / batch_size\n",
    "#         grad_b_v2 = -1 * tf.reduce_sum((h_tilde_of_x - h_tilde_of_x_tilde), axis=0) / batch_size\n",
    "#         grad_c_v2 = -1 * tf.reduce_sum((x - x_tilde), axis=0) / batch_size   \n",
    "        \n",
    "#         print(1)\n",
    "#         assert abs(np.mean(grad_W) - np.mean(grad_W_v2)) < 0.001, f\"W gradient difference: {(np.mean(grad_W) - np.mean(grad_W_v2))}\"\n",
    "#         assert abs(np.mean(grad_b) - np.mean(grad_b_v2)) < 0.001, f\"b gradient difference: {(np.mean(grad_b) - np.mean(grad_b_v2))}\"\n",
    "#         assert abs(np.mean(grad_c) - np.mean(grad_c_v2)) < 0.001, f\"c gradient difference: {(np.mean(grad_c) - np.mean(grad_c_v2))}\"\n",
    "        \n",
    "        self.W.assign_sub(learning_rate * grad_W)\n",
    "        self.c.assign_sub(learning_rate * grad_c)\n",
    "        self.b.assign_sub(learning_rate * grad_b) \n",
    "#         pdb.set_trace()"
   ]
  },
  {
   "cell_type": "code",
   "execution_count": 7,
   "metadata": {
    "scrolled": true
   },
   "outputs": [
    {
     "name": "stdout",
     "output_type": "stream",
     "text": [
      "epoch: 0, train loss: 0.3133784234523773, val loss: 0.3140334486961365\n",
      "epoch: 1, train loss: 0.26282334327697754, val loss: 0.2628367841243744\n",
      "epoch: 2, train loss: 0.23996245861053467, val loss: 0.2376837581396103\n",
      "epoch: 3, train loss: 0.22267207503318787, val loss: 0.2265874594449997\n",
      "epoch: 4, train loss: 0.20633870363235474, val loss: 0.20847855508327484\n",
      "epoch: 5, train loss: 0.20364919304847717, val loss: 0.20204611122608185\n",
      "epoch: 6, train loss: 0.19673658907413483, val loss: 0.19495061039924622\n",
      "epoch: 7, train loss: 0.1867082715034485, val loss: 0.18959026038646698\n",
      "epoch: 8, train loss: 0.18266360461711884, val loss: 0.18388119339942932\n",
      "epoch: 9, train loss: 0.18226729333400726, val loss: 0.17786890268325806\n",
      "epoch: 10, train loss: 0.1770090013742447, val loss: 0.17617899179458618\n",
      "epoch: 11, train loss: 0.1744663566350937, val loss: 0.1722548007965088\n",
      "epoch: 12, train loss: 0.17240983247756958, val loss: 0.16823533177375793\n",
      "epoch: 13, train loss: 0.16854727268218994, val loss: 0.16860172152519226\n",
      "epoch: 14, train loss: 0.1670578271150589, val loss: 0.16504041850566864\n",
      "epoch: 15, train loss: 0.16290435194969177, val loss: 0.16627900302410126\n",
      "epoch: 16, train loss: 0.1607971340417862, val loss: 0.1645468771457672\n",
      "epoch: 17, train loss: 0.163321852684021, val loss: 0.16262628138065338\n",
      "epoch: 18, train loss: 0.16361744701862335, val loss: 0.16112647950649261\n",
      "epoch: 19, train loss: 0.1613207310438156, val loss: 0.1607901006937027\n",
      "epoch: 20, train loss: 0.15571098029613495, val loss: 0.15762802958488464\n",
      "epoch: 21, train loss: 0.15965257585048676, val loss: 0.15674491226673126\n",
      "epoch: 22, train loss: 0.1527119129896164, val loss: 0.15568819642066956\n",
      "epoch: 23, train loss: 0.1508176475763321, val loss: 0.15540452301502228\n",
      "epoch: 24, train loss: 0.15375646948814392, val loss: 0.15329408645629883\n",
      "epoch: 25, train loss: 0.15379942953586578, val loss: 0.15371009707450867\n",
      "epoch: 26, train loss: 0.1504751592874527, val loss: 0.14865753054618835\n",
      "epoch: 27, train loss: 0.14789673686027527, val loss: 0.1484944075345993\n",
      "epoch: 28, train loss: 0.15017972886562347, val loss: 0.1472731977701187\n",
      "epoch: 29, train loss: 0.15032348036766052, val loss: 0.14752674102783203\n"
     ]
    }
   ],
   "source": [
    "def get_loss(y, output):\n",
    "    loss = -1. * ((y * tf.log(output)) + ((1. - y) * (tf.log(1. - output))))\n",
    "#     l1 = tf.reduce_mean(loss)\n",
    "#     l2 = tf.reduce_sum(loss) / tf.cast(tf.shape(y)[0], dtype=tf.float32)\n",
    "#     pdb.set_trace()\n",
    "    return tf.reduce_mean(loss)\n",
    "\n",
    "\n",
    "epoch = 30\n",
    "batch_size = 500\n",
    "accuracy_size = 500\n",
    "max_iter = int(mnist.train.num_examples/batch_size)\n",
    "print_every = 100\n",
    "\n",
    "rbm = RBM(784, 200)\n",
    "\n",
    "for e in range(epoch):\n",
    "    for it in range(max_iter):\n",
    "        batch_x, _ = mnist.train.next_batch(batch_size)\n",
    "        rbm.update_weights(batch_x, k=1, sample=False)\n",
    "    \n",
    "    train_index = np.random.choice(mnist.train.images.shape[0], accuracy_size)\n",
    "    train_x = mnist.train.images[train_index]\n",
    "    train_sample = rbm.gibbs_sampler(train_x, return_prob=True)\n",
    "    train_loss = get_loss(train_x, train_sample)\n",
    "    \n",
    "    val_index = np.random.choice(mnist.validation.images.shape[0], accuracy_size)\n",
    "    val_x = mnist.validation.images[val_index]\n",
    "    val_sample = rbm.gibbs_sampler(val_x, return_prob=True)\n",
    "    val_loss = get_loss(val_x, val_sample)\n",
    "    \n",
    "    print(f\"epoch: {e}, train loss: {train_loss}, val loss: {val_loss}\")"
   ]
  },
  {
   "cell_type": "code",
   "execution_count": 28,
   "metadata": {},
   "outputs": [
    {
     "data": {
      "image/png": "[encoded data removed]",
      "text/plain": [
       "<Figure size 432x288 with 15 Axes>"
      ]
     },
     "metadata": {
      "needs_background": "light"
     },
     "output_type": "display_data"
    }
   ],
   "source": [
    "import matplotlib.gridspec as gridspec\n",
    "\n",
    "\n",
    "def show_images(images, rows):\n",
    "    rows = rows\n",
    "    cols = int(images.shape[0]/rows)\n",
    "    image_width = image_height = np.ceil(np.sqrt(images.shape[1])).astype(int)\n",
    "    \n",
    "#     plt.figure(figsize=(5, 5))\n",
    "    gs = gridspec.GridSpec(rows, cols)\n",
    "    gs.update(wspace=0.05, hspace=0.05)\n",
    "    \n",
    "    for i in range(images.shape[0]):\n",
    "        axs = plt.subplot(gs[i])\n",
    "        axs.axis('off')\n",
    "        axs.set_xticklabels([])\n",
    "        axs.set_yticklabels([])\n",
    "        axs.imshow(images[i].reshape([image_width, image_height]))\n",
    "\n",
    "        \n",
    "        \n",
    "test_index = np.random.choice(mnist.validation.images.shape[0], 5)\n",
    "test_images = mnist.validation.images[test_index]\n",
    "modified_test_images = np.copy(test_images)\n",
    "modified_test_images[:, 391:] = 0\n",
    "output_test_images = rbm.gibbs_sampler(modified_test_images, k=1, sample=False, return_prob=True).numpy()\n",
    "\n",
    "all_images = np.vstack((test_images, modified_test_images, output_test_images))\n",
    "show_images(all_images, 3)"
   ]
  },
  {
   "cell_type": "code",
   "execution_count": null,
   "metadata": {},
   "outputs": [],
   "source": []
  }
 ],
 "metadata": {
  "kernelspec": {
   "display_name": "Python 3",
   "language": "python",
   "name": "python3"
  },
  "language_info": {
   "codemirror_mode": {
    "name": "ipython",
    "version": 3
   },
   "file_extension": ".py",
   "mimetype": "text/x-python",
   "name": "python",
   "nbconvert_exporter": "python",
   "pygments_lexer": "ipython3",
   "version": "3.6.8"
  }
 },
 "nbformat": 4,
 "nbformat_minor": 2
}
