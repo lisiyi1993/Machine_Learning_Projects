{
 "cells": [
  {
   "cell_type": "code",
   "execution_count": 1,
   "metadata": {},
   "outputs": [],
   "source": [
    "import os, shutil\n",
    "import tensorflow as tf\n",
    "import numpy as np\n",
    "import matplotlib.pyplot as plt\n",
    "import matplotlib.gridspec as gridspec\n",
    "from tensorflow.examples.tutorials.mnist import input_data\n",
    "%matplotlib inline\n",
    "\n",
    "plt.rcParams['image.cmap'] = 'gray'"
   ]
  },
  {
   "cell_type": "code",
   "execution_count": 2,
   "metadata": {
    "scrolled": true
   },
   "outputs": [
    {
     "name": "stdout",
     "output_type": "stream",
     "text": [
      "WARNING:tensorflow:From <ipython-input-2-6ce3321fbd5b>:1: read_data_sets (from tensorflow.contrib.learn.python.learn.datasets.mnist) is deprecated and will be removed in a future version.\n",
      "Instructions for updating:\n",
      "Please use alternatives such as official/mnist/dataset.py from tensorflow/models.\n",
      "WARNING:tensorflow:From D:\\ProgramData\\Anaconda3\\envs\\deeplearning\\lib\\site-packages\\tensorflow\\contrib\\learn\\python\\learn\\datasets\\mnist.py:260: maybe_download (from tensorflow.contrib.learn.python.learn.datasets.base) is deprecated and will be removed in a future version.\n",
      "Instructions for updating:\n",
      "Please write your own downloading logic.\n",
      "WARNING:tensorflow:From D:\\ProgramData\\Anaconda3\\envs\\deeplearning\\lib\\site-packages\\tensorflow\\contrib\\learn\\python\\learn\\datasets\\mnist.py:262: extract_images (from tensorflow.contrib.learn.python.learn.datasets.mnist) is deprecated and will be removed in a future version.\n",
      "Instructions for updating:\n",
      "Please use tf.data to implement this functionality.\n",
      "Extracting ../datasets/MNIST_data\\train-images-idx3-ubyte.gz\n",
      "WARNING:tensorflow:From D:\\ProgramData\\Anaconda3\\envs\\deeplearning\\lib\\site-packages\\tensorflow\\contrib\\learn\\python\\learn\\datasets\\mnist.py:267: extract_labels (from tensorflow.contrib.learn.python.learn.datasets.mnist) is deprecated and will be removed in a future version.\n",
      "Instructions for updating:\n",
      "Please use tf.data to implement this functionality.\n",
      "Extracting ../datasets/MNIST_data\\train-labels-idx1-ubyte.gz\n",
      "WARNING:tensorflow:From D:\\ProgramData\\Anaconda3\\envs\\deeplearning\\lib\\site-packages\\tensorflow\\contrib\\learn\\python\\learn\\datasets\\mnist.py:110: dense_to_one_hot (from tensorflow.contrib.learn.python.learn.datasets.mnist) is deprecated and will be removed in a future version.\n",
      "Instructions for updating:\n",
      "Please use tf.one_hot on tensors.\n",
      "Extracting ../datasets/MNIST_data\\t10k-images-idx3-ubyte.gz\n",
      "Extracting ../datasets/MNIST_data\\t10k-labels-idx1-ubyte.gz\n",
      "WARNING:tensorflow:From D:\\ProgramData\\Anaconda3\\envs\\deeplearning\\lib\\site-packages\\tensorflow\\contrib\\learn\\python\\learn\\datasets\\mnist.py:290: DataSet.__init__ (from tensorflow.contrib.learn.python.learn.datasets.mnist) is deprecated and will be removed in a future version.\n",
      "Instructions for updating:\n",
      "Please use alternatives such as official/mnist/dataset.py from tensorflow/models.\n"
     ]
    }
   ],
   "source": [
    "mnist = input_data.read_data_sets('../datasets/MNIST_data', one_hot=True)"
   ]
  },
  {
   "cell_type": "code",
   "execution_count": 3,
   "metadata": {},
   "outputs": [
    {
     "data": {
      "image/png": "[encoded data removed]",
      "text/plain": [
       "<Figure size 360x360 with 16 Axes>"
      ]
     },
     "metadata": {
      "needs_background": "light"
     },
     "output_type": "display_data"
    }
   ],
   "source": [
    "def show_images(images):\n",
    "    rows = cols = np.ceil(np.sqrt(images.shape[0])).astype(int)\n",
    "    image_width = image_height = np.ceil(np.sqrt(images.shape[1])).astype(int)\n",
    "    \n",
    "    plt.figure(figsize=(5, 5))\n",
    "    gs = gridspec.GridSpec(rows, cols)\n",
    "    gs.update(wspace=0.05, hspace=0.05)\n",
    "    \n",
    "    for i in range(images.shape[0]):\n",
    "        axs = plt.subplot(gs[i])\n",
    "        axs.axis('off')\n",
    "        axs.set_xticklabels([])\n",
    "        axs.set_yticklabels([])\n",
    "        axs.imshow(images[i].reshape([image_width, image_height]))\n",
    "\n",
    "# choose 16 random MNIST training images\n",
    "random_images = np.random.choice(mnist.train.images.shape[0], size=16, replace=False)\n",
    "show_images(mnist.train.images[random_images])"
   ]
  },
  {
   "cell_type": "code",
   "execution_count": 17,
   "metadata": {},
   "outputs": [
    {
     "name": "stdout",
     "output_type": "stream",
     "text": [
      "The label is 2\n"
     ]
    },
    {
     "data": {
      "text/plain": [
       "<matplotlib.image.AxesImage at 0x2593a7f0>"
      ]
     },
     "execution_count": 17,
     "metadata": {},
     "output_type": "execute_result"
    },
    {
     "data": {
      "image/png": "[encoded data removed]",
      "text/plain": [
       "<Figure size 432x288 with 1 Axes>"
      ]
     },
     "metadata": {
      "needs_background": "light"
     },
     "output_type": "display_data"
    }
   ],
   "source": [
    "index = np.random.randint(mnist.validation.num_examples)\n",
    "val_image = mnist.validation.images[index]\n",
    "val_label = mnist.validation.labels[index]\n",
    "print(\"The label is {}\".format(np.argmax(val_label)))\n",
    "plt.imshow(val_image.reshape([28, 28]))"
   ]
  },
  {
   "cell_type": "code",
   "execution_count": 18,
   "metadata": {},
   "outputs": [],
   "source": [
    "PATH = os.path.join(os.getcwd(), 'mnist_cnn')\n",
    "\n",
    "def get_session():\n",
    "    config = tf.ConfigProto()\n",
    "    config.gpu_options.allow_growth = True\n",
    "    session = tf.Session(config=config)\n",
    "    return session\n",
    "\n",
    "\n",
    "def model_init(X, is_training):\n",
    "    initializer = tf.variance_scaling_initializer(scale=2.0)\n",
    "    \n",
    "    X_images = tf.reshape(X, [-1, 28, 28, 1])\n",
    "    conv1 = tf.layers.conv2d(inputs=X_images, filters=32, kernel_size=3, strides=1, padding='SAME', activation=tf.nn.relu, \n",
    "                             kernel_initializer=initializer)\n",
    "    max_pool1 = tf.layers.max_pooling2d(conv1, pool_size=2, strides=2)\n",
    "    \n",
    "    conv2 = tf.layers.conv2d(inputs=max_pool1, filters=32, kernel_size=3, strides=1, padding='SAME', activation=tf.nn.relu, \n",
    "                             kernel_initializer=initializer)\n",
    "    max_pool2 = tf.layers.max_pooling2d(conv2, pool_size=2, strides=2)\n",
    "    \n",
    "    flat = tf.layers.flatten(max_pool2)\n",
    "    fc1 = tf.layers.dense(flat, units=1024, kernel_initializer=initializer)\n",
    "    fc1 = tf.layers.dropout(fc1, training=is_training)\n",
    "    \n",
    "    scores = tf.layers.dense(fc1, units=10, kernel_initializer=initializer)\n",
    "    tf.identity(scores, name='scores')\n",
    "    \n",
    "    return scores\n",
    "\n",
    "\n",
    "def optimizer_init(learning_rate):\n",
    "    return tf.train.AdamOptimizer(learning_rate=learning_rate)\n",
    "\n",
    "\n",
    "def check_accuracy(sess, dataset, X, y, scores, is_training=None):\n",
    "    matches = tf.equal(tf.argmax(y, axis=1), tf.argmax(scores, axis=1))\n",
    "    matches = tf.reduce_sum(tf.cast(matches, tf.float32))\n",
    "    \n",
    "    total_matches = 0\n",
    "    max_iter = int(dataset.num_examples/100)\n",
    "    for it in range(max_iter):\n",
    "        batch_x, batch_y = dataset.next_batch(100)\n",
    "        feed_dict_test = {X: batch_x, y: batch_y, is_training: 0}\n",
    "        total_matches += sess.run(matches, feed_dict=feed_dict_test)\n",
    "    \n",
    "    accuracy = total_matches / dataset.num_examples\n",
    "    return accuracy\n",
    "\n",
    "\n",
    "def train_cnn(sess, model_init_fn, optimizer_init_fn, learning_rate, batch_size, print_every, epoch=1):   \n",
    "    X = tf.placeholder(tf.float32, [None, 784], name='X')\n",
    "    y = tf.placeholder(tf.float32, [None, 10], name='y')\n",
    "    is_training = tf.placeholder(tf.bool, name='is_training')\n",
    "    \n",
    "    scores = model_init_fn(X, is_training)\n",
    "    loss = tf.nn.softmax_cross_entropy_with_logits_v2(labels=y, logits=scores)\n",
    "    loss = tf.reduce_mean(loss)\n",
    "    optimizer = optimizer_init_fn(learning_rate)\n",
    "    train_op = optimizer.minimize(loss)\n",
    "    \n",
    "    max_iter = int(mnist.train.num_examples/batch_size)\n",
    "    sess.run(tf.global_variables_initializer())\n",
    "    \n",
    "    for e in range(epoch):\n",
    "        print(\"Epoch: {}\".format(e))\n",
    "        for it in range(max_iter):\n",
    "            batch_x, batch_y = mnist.train.next_batch(batch_size)\n",
    "            feed_dict_train = {X: batch_x, y: batch_y, is_training:1}\n",
    "\n",
    "            loss_it, _ = sess.run([loss, train_op], feed_dict=feed_dict_train)\n",
    "\n",
    "#             if it % print_every == 0:\n",
    "#                 accuracy = check_accuracy(sess, X, y, scores, is_training=is_training)            \n",
    "#                 print(\"At iteration {}: {} accuracy\".format(it, accuracy))\n",
    "\n",
    "        accuracy = check_accuracy(sess, mnist.test, X, y, scores, is_training=is_training) \n",
    "        print(\"Final accuracy: {}\".format(accuracy))\n",
    "    \n",
    "#     val_pred = tf.argmax(scores, axis=1)\n",
    "#     val_pred = sess.run(val_pred, feed_dict={X:val_image.reshape((1, -1)), is_training:0})\n",
    "#     print(\"The prediction of validation image is {}\".format(val_pred))\n",
    "    \n",
    "    input_tensors = {'X': X, 'is_training': is_training}\n",
    "    output_tensors = {'scores': scores}\n",
    "    \n",
    "    if os.path.exists(PATH):\n",
    "        shutil.rmtree(PATH)\n",
    "        \n",
    "    print(\"\\nSaving model...\")\n",
    "    tf.saved_model.simple_save(sess, PATH, input_tensors, output_tensors)\n",
    "    print(\"Done!\")"
   ]
  },
  {
   "cell_type": "code",
   "execution_count": 20,
   "metadata": {},
   "outputs": [
    {
     "name": "stdout",
     "output_type": "stream",
     "text": [
      "Epoch: 0\n",
      "Final accuracy: 0.968\n",
      "Epoch: 1\n",
      "Final accuracy: 0.9786\n",
      "Epoch: 2\n",
      "Final accuracy: 0.9807\n",
      "Epoch: 3\n",
      "Final accuracy: 0.9838\n",
      "Epoch: 4\n",
      "Final accuracy: 0.9851\n",
      "Epoch: 5\n",
      "Final accuracy: 0.9869\n",
      "Epoch: 6\n",
      "Final accuracy: 0.9854\n",
      "Epoch: 7\n",
      "Final accuracy: 0.9837\n",
      "Epoch: 8\n",
      "Final accuracy: 0.9863\n",
      "Epoch: 9\n",
      "Final accuracy: 0.9876\n",
      "Epoch: 10\n",
      "Final accuracy: 0.9868\n",
      "Epoch: 11\n",
      "Final accuracy: 0.9882\n",
      "Epoch: 12\n",
      "Final accuracy: 0.9882\n",
      "Epoch: 13\n",
      "Final accuracy: 0.9888\n",
      "Epoch: 14\n",
      "Final accuracy: 0.9873\n",
      "\n",
      "Saving model...\n",
      "INFO:tensorflow:Assets added to graph.\n",
      "INFO:tensorflow:No assets to write.\n",
      "INFO:tensorflow:SavedModel written to: C:\\Users\\Alex\\Desktop\\Machine_Learning\\cnn\\mnist_cnn\\saved_model.pb\n",
      "Done!\n"
     ]
    }
   ],
   "source": [
    "epoch = 5\n",
    "\n",
    "tf.reset_default_graph()\n",
    "with get_session() as sess: \n",
    "    train_cnn(sess=sess, model_init_fn=model_init, optimizer_init_fn=optimizer_init, \n",
    "              learning_rate=0.0001, batch_size=100, print_every=50, epoch=15)"
   ]
  },
  {
   "cell_type": "code",
   "execution_count": 21,
   "metadata": {},
   "outputs": [
    {
     "name": "stdout",
     "output_type": "stream",
     "text": [
      "\n",
      "Restoring model...\n",
      "INFO:tensorflow:Restoring parameters from C:\\Users\\Alex\\Desktop\\Machine_Learning\\cnn\\mnist_cnn\\variables\\variables\n",
      "Ok! \n",
      "\n",
      "The accuracy is 0.9896 \n",
      "\n",
      "The prediction of validation image is [2]\n"
     ]
    }
   ],
   "source": [
    "from tensorflow.python.saved_model import tag_constants\n",
    "\n",
    "tf.reset_default_graph()\n",
    "graph = tf.get_default_graph()\n",
    "with get_session() as sess:\n",
    "    print('\\nRestoring model...')\n",
    "    tf.saved_model.loader.load(sess, [tag_constants.SERVING], PATH)\n",
    "    print('Ok! \\n')\n",
    "\n",
    "    X = graph.get_tensor_by_name('X:0')\n",
    "    is_training = graph.get_tensor_by_name('is_training:0')\n",
    "    scores = graph.get_tensor_by_name('scores:0')\n",
    "    \n",
    "    y = tf.placeholder(tf.float32, [None, 10])\n",
    "    accuracy = check_accuracy(sess, mnist.validation, X, y, scores, is_training=is_training)\n",
    "    print(\"The accuracy is {} \\n\".format(accuracy))\n",
    "    \n",
    "    val_pred = tf.argmax(scores, axis=1)\n",
    "    val_pred = sess.run(val_pred, feed_dict={X:val_image.reshape((1, -1)), is_training:0})\n",
    "    print(\"The prediction of validation image is {}\".format(val_pred))"
   ]
  }
 ],
 "metadata": {
  "kernelspec": {
   "display_name": "Python 3",
   "language": "python",
   "name": "python3"
  },
  "language_info": {
   "codemirror_mode": {
    "name": "ipython",
    "version": 3
   },
   "file_extension": ".py",
   "mimetype": "text/x-python",
   "name": "python",
   "nbconvert_exporter": "python",
   "pygments_lexer": "ipython3",
   "version": "3.6.8"
  }
 },
 "nbformat": 4,
 "nbformat_minor": 2
}
